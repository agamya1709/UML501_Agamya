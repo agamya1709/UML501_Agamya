{
  "metadata": {
    "kernelspec": {
      "name": "python",
      "display_name": "Python (Pyodide)",
      "language": "python"
    },
    "language_info": {
      "codemirror_mode": {
        "name": "python",
        "version": 3
      },
      "file_extension": ".py",
      "mimetype": "text/x-python",
      "name": "python",
      "nbconvert_exporter": "python",
      "pygments_lexer": "ipython3",
      "version": "3.8"
    }
  },
  "nbformat_minor": 5,
  "nbformat": 4,
  "cells": [
    {
      "id": "9330edac-5faf-4d2b-ae9e-929009767b7b",
      "cell_type": "markdown",
      "source": "Q1: Questions on Basic NumPy Array\n(a)\tReverse the NumPy array: arr = np.array([1, 2, 3, 6, 4, 5]) \n(b)\tFlatten the NumPy arr: array1 = np.array([[1, 2, 3], [2, 4, 5], [1, 2, 3]]) using any two NumPy in-built methods \n(c)\tCompare the following numpy arrays: \narr1 = np.array([[1, 2], [3, 4]]) arr2 = np.array([[1, 2], [3, 4]]) \n \n(d)\tFind the most frequent value and their indice(s) in the following arrays: \ni.\tx = np.array([1,2,3,4,5,1,2,1,1,1]) \nii.\ty = np.array([1, 1, 1, 2, 3, 4, 2, 4, 3, 3, ]) \n(e)\tFor the array gfg = np.matrix('[4, 1, 9; 12, 3, 1; 4, 5, 6]'), find \ni.\tSum of all elements \nii.\tSum of all elements row-wise  \niii.\tSum of all elements column-wise \n(f)\tFor the matrix: n_array = np.array([[55, 25, 15],[30, 44, 2],[11, 45, 77]]), find \ni.\tSum of diagonal elements \nii.\tEigen values of matrix \niii.\tEigen vectors of matrix iv. Inverse of matrix \n\tv. \tDeterminant of matrix \n(g)\tMultiply the following matrices and also find covariance between matrices using NumPy: i. p = [[1, 2], [2, 3]] q = [[4, 5], [6, 7]] \nii. \tp = [[1, 2], [2, 3], [4, 5]] q = [[4, 5, 1], [6, 7, 2]] \n(h)\tFor the matrices: x = np.array([[2, 3, 4], [3, 2, 9]]); y = np.array([[1, 5, 0], [5, 10, 3]]), find inner, outer and cartesian product? \n",
      "metadata": {}
    },
    {
      "id": "a93d30b8-5f14-4180-85f8-2e8ab77ab1db",
      "cell_type": "code",
      "source": "\nimport numpy as np\nfrom numpy import linalg as LA\nfrom collections import Counter\nfrom itertools import product\n\n\narr = np.array([1, 2, 3, 6, 4, 5])\nprint(\"Q1 (a) - Reversed Array:\", arr[::-1])\n\narray1 = np.array([[1, 2, 3], [2, 4, 5], [1, 2, 3]])\nprint(\"Q1 (b) - Flatten (flatten):\", array1.flatten())\nprint(\"Q1 (b) - Flatten (ravel):\", array1.ravel())\n\n\narr1 = np.array([[1, 2], [3, 4]])\narr2 = np.array([[1, 2], [3, 4]])\nprint(\"Q1 (c) - Arrays are equal:\", np.array_equal(arr1, arr2))\n\n\nx = np.array([1,2,3,4,5,1,2,1,1,1])\ny = np.array([1, 1, 1, 2, 3, 4, 2, 4, 3, 3])\n\n\nval_x = Counter(x).most_common(1)[0][0]\nindices_x = np.where(x == val_x)[0]\nprint(\"Q1 (d.i) - Most frequent in x:\", val_x, \"Indices:\", indices_x)\n\nval_y = Counter(y).most_common(1)[0][0]\nindices_y = np.where(y == val_y)[0]\nprint(\"Q1 (d.ii) - Most frequent in y:\", val_y, \"Indices:\", indices_y)\n\n\ngfg = np.matrix('[4, 1, 9; 12, 3, 1; 4, 5, 6]')\nprint(\"Q1 (e.i) - Total sum:\", gfg.sum())\nprint(\"Q1 (e.ii) - Row-wise sum:\", gfg.sum(axis=1))\nprint(\"Q1 (e.iii) - Column-wise sum:\", gfg.sum(axis=0))\n\nn_array = np.array([[55, 25, 15], [30, 44, 2], [11, 45, 77]])\nprint(\"Q1 (f.i) - Diagonal sum:\", np.trace(n_array))\neig_vals, eig_vecs = LA.eig(n_array)\nprint(\"Q1 (f.ii) - Eigenvalues:\", eig_vals)\nprint(\"Q1 (f.iii) - Eigenvectors:\\n\", eig_vecs)\nprint(\"Q1 (f.iv) - Inverse:\\n\", LA.inv(n_array))\nprint(\"Q1 (f.v) - Determinant:\", LA.det(n_array))\n\n\np1 = np.array([[1, 2], [2, 3]])\nq1 = np.array([[4, 5], [6, 7]])\nprint(\"Q1 (g.i) - Matrix Product 1:\\n\", np.dot(p1, q1))\n\np1_flat = p1.flatten()\nq1_flat = q1.flatten()\ncombined1 = np.stack((p1_flat, q1_flat), axis=0)\nprint(\"Q1 (g.i) - Covariance 1:\\n\", np.cov(combined1))\n\np2 = np.array([[1, 2], [2, 3], [4, 5]])\nq2 = np.array([[4, 5, 1], [6, 7, 2]])\nprint(\"Q1 (g.ii) - Matrix Product 2:\\n\", np.dot(p2, q2))\n\np2_flat = p2.flatten()[:6]\nq2_flat = q2.flatten()[:6]\ncombined2 = np.stack((p2_flat, q2_flat), axis=0)\nprint(\"Q1 (g.ii) - Covariance 2:\\n\", np.cov(combined2))\n\n\nx = np.array([[2, 3, 4], [3, 2, 9]])\ny = np.array([[1, 5, 0], [5, 10, 3]])\n\nprint(\"Q1 (h) - Inner Product:\\n\", np.inner(x, y))\nprint(\"Q1 (h) - Outer Product:\\n\", np.outer(x.flatten(), y.flatten()))\n\ncartesian = list(product(x.flatten(), y.flatten()))\nprint(\"Q1 (h) - Cartesian Product:\\n\", cartesian)\n\n",
      "metadata": {
        "trusted": true
      },
      "outputs": [
        {
          "name": "stdout",
          "output_type": "stream",
          "text": "Q1 (a) - Reversed Array: [5 4 6 3 2 1]\nQ1 (b) - Flatten (flatten): [1 2 3 2 4 5 1 2 3]\nQ1 (b) - Flatten (ravel): [1 2 3 2 4 5 1 2 3]\nQ1 (c) - Arrays are equal: True\nQ1 (d.i) - Most frequent in x: 1 Indices: [0 5 7 8 9]\nQ1 (d.ii) - Most frequent in y: 1 Indices: [0 1 2]\nQ1 (e.i) - Total sum: 45\nQ1 (e.ii) - Row-wise sum: [[14]\n [16]\n [15]]\nQ1 (e.iii) - Column-wise sum: [[20  9 16]]\nQ1 (f.i) - Diagonal sum: 176\nQ1 (f.ii) - Eigenvalues: [28.097044   49.73460452 98.16835147]\nQ1 (f.iii) - Eigenvectors:\n [[-0.34637121  0.15017693  0.4574917 ]\n [ 0.72784061  0.4852124   0.28447814]\n [-0.59184038 -0.8614034   0.84248058]]\nQ1 (f.iv) - Inverse:\n [[ 0.02404141 -0.00911212 -0.00444671]\n [-0.01667882  0.02966905  0.0024785 ]\n [ 0.00631287 -0.01603732  0.01217379]]\nQ1 (f.v) - Determinant: 137180.0000000001\nQ1 (g.i) - Matrix Product 1:\n [[16 19]\n [26 31]]\nQ1 (g.i) - Covariance 1:\n [[0.66666667 1.        ]\n [1.         1.66666667]]\nQ1 (g.ii) - Matrix Product 2:\n [[16 19  5]\n [26 31  8]\n [46 55 14]]\nQ1 (g.ii) - Covariance 2:\n [[2.16666667 0.23333333]\n [0.23333333 5.36666667]]\nQ1 (h) - Inner Product:\n [[17 52]\n [13 62]]\nQ1 (h) - Outer Product:\n [[ 2 10  0 10 20  6]\n [ 3 15  0 15 30  9]\n [ 4 20  0 20 40 12]\n [ 3 15  0 15 30  9]\n [ 2 10  0 10 20  6]\n [ 9 45  0 45 90 27]]\nQ1 (h) - Cartesian Product:\n [(np.int32(2), np.int32(1)), (np.int32(2), np.int32(5)), (np.int32(2), np.int32(0)), (np.int32(2), np.int32(5)), (np.int32(2), np.int32(10)), (np.int32(2), np.int32(3)), (np.int32(3), np.int32(1)), (np.int32(3), np.int32(5)), (np.int32(3), np.int32(0)), (np.int32(3), np.int32(5)), (np.int32(3), np.int32(10)), (np.int32(3), np.int32(3)), (np.int32(4), np.int32(1)), (np.int32(4), np.int32(5)), (np.int32(4), np.int32(0)), (np.int32(4), np.int32(5)), (np.int32(4), np.int32(10)), (np.int32(4), np.int32(3)), (np.int32(3), np.int32(1)), (np.int32(3), np.int32(5)), (np.int32(3), np.int32(0)), (np.int32(3), np.int32(5)), (np.int32(3), np.int32(10)), (np.int32(3), np.int32(3)), (np.int32(2), np.int32(1)), (np.int32(2), np.int32(5)), (np.int32(2), np.int32(0)), (np.int32(2), np.int32(5)), (np.int32(2), np.int32(10)), (np.int32(2), np.int32(3)), (np.int32(9), np.int32(1)), (np.int32(9), np.int32(5)), (np.int32(9), np.int32(0)), (np.int32(9), np.int32(5)), (np.int32(9), np.int32(10)), (np.int32(9), np.int32(3))]\n"
        }
      ],
      "execution_count": 5
    },
    {
      "id": "39c6888e-c66d-452e-9473-739eb8782b19",
      "cell_type": "markdown",
      "source": "Q2: Based on NumPy Mathematics and Statistics \n(a)\tFor the array: array = np.array([[1, -2, 3],[-4, 5, -6]]) \ni.\tFind element-wise absolute value \nii.\tFind the 25th, 50th, and 75th percentile of flattened array, for each column, for each row. iii. Mean, Median and Standard Deviation of flattened array, of each column, and each row \n(b)\tFor the array: a = np.array([-1.8, -1.6, -0.5, 0.5,1.6, 1.8, 3.0]). Find floor, ceiling and truncated value, rounded values \n \n",
      "metadata": {}
    },
    {
      "id": "1e247f60-bfef-4d92-aea2-b49b1328c41d",
      "cell_type": "code",
      "source": "array = np.array([[1, -2, 3], [-4, 5, -6]])\nprint(\"Absolute:\\n\", np.abs(array))\n\nflat = array.flatten()\nprint(\"Percentiles (Flat):\", np.percentile(flat, [25, 50, 75]))\nprint(\"Percentiles (Col):\", np.percentile(array, [25, 50, 75], axis=0))\nprint(\"Percentiles (Row):\", np.percentile(array, [25, 50, 75], axis=1))\n\nprint(\"Mean (Flat):\", flat.mean())\nprint(\"Median (Flat):\", np.median(flat))\nprint(\"Std Dev (Flat):\", flat.std())\na = np.array([-1.8, -1.6, -0.5, 0.5, 1.6, 1.8, 3.0])\nprint(\"Floor:\", np.floor(a))\nprint(\"Ceil:\", np.ceil(a))\nprint(\"Trunc:\", np.trunc(a))\nprint(\"Round:\", np.round(a))\n",
      "metadata": {
        "trusted": true
      },
      "outputs": [
        {
          "name": "stdout",
          "output_type": "stream",
          "text": "Absolute:\n [[1 2 3]\n [4 5 6]]\nPercentiles (Flat): [-3.5 -0.5  2.5]\nPercentiles (Col): [[-2.75 -0.25 -3.75]\n [-1.5   1.5  -1.5 ]\n [-0.25  3.25  0.75]]\nPercentiles (Row): [[-0.5 -5. ]\n [ 1.  -4. ]\n [ 2.   0.5]]\nMean (Flat): -0.5\nMedian (Flat): -0.5\nStd Dev (Flat): 3.8622100754188224\nFloor: [-2. -2. -1.  0.  1.  1.  3.]\nCeil: [-1. -1. -0.  1.  2.  2.  3.]\nTrunc: [-1. -1. -0.  0.  1.  1.  3.]\nRound: [-2. -2. -0.  0.  2.  2.  3.]\n"
        }
      ],
      "execution_count": 2
    },
    {
      "id": "7156ac82-9421-4bb4-9185-b54b3105e6e5",
      "cell_type": "markdown",
      "source": "Q3: Based on Searching and Sorting \n(a)\tFor the array: array = np.array([10, 52, 62, 16, 16, 54, 453]), find \ni.\tSorted array \nii.\tIndices of sorted array \niii.\t4 smallest elements \niv.\t5 largest elements \n(b)\tFor the array: array = np.array([1.0, 1.2, 2.2, 2.0, 3.0, 2.0]), find \ni.\tInteger elements only \nii.\tFloat elements only \n",
      "metadata": {}
    },
    {
      "id": "e1120c83-e533-46a1-89d5-c41c5576da51",
      "cell_type": "code",
      "source": "array = np.array([10, 52, 62, 16, 16, 54, 453])\nprint(\"Sorted:\", np.sort(array))\nprint(\"Indices:\", np.argsort(array))\nprint(\"4 Smallest:\", np.sort(array)[:4])\nprint(\"5 Largest:\", np.sort(array)[-5:])\narray = np.array([1.0, 1.2, 2.2, 2.0, 3.0, 2.0])\nintegers = array[array == array.astype(int)]\nfloats = array[array != array.astype(int)]\nprint(\"Integers:\", integers)\nprint(\"Floats:\", floats)\n",
      "metadata": {
        "trusted": true
      },
      "outputs": [
        {
          "name": "stdout",
          "output_type": "stream",
          "text": "Sorted: [ 10  16  16  52  54  62 453]\nIndices: [0 3 4 1 5 2 6]\n4 Smallest: [10 16 16 52]\n5 Largest: [ 16  52  54  62 453]\nIntegers: [1. 2. 3. 2.]\nFloats: [1.2 2.2]\n"
        }
      ],
      "execution_count": 3
    },
    {
      "id": "6a981434-dfba-4b6b-8aae-2bd07fb9af4e",
      "cell_type": "markdown",
      "source": "Q4:  \n(a)\tWrite a function named img_to_array(path) that reads an image from a specified path and save it as text file on local machine? (Note: use separate cases for RGB and Grey Scale images) \n(b)\tLoad the saved file into jupyter notebook? \n",
      "metadata": {}
    },
    {
      "id": "aaa81bd3-7ed4-4c0c-892f-3bec31761966",
      "cell_type": "code",
      "source": "from PIL import Image\n\ndef img_to_array(path):\n    img = Image.open(path)\n    arr = np.array(img)\n    if len(arr.shape) == 2:\n        np.savetxt(\"grayscale_image.txt\", arr, fmt='%d')\n        print(\"Grayscale image saved.\")\n    else:\n        for i in range(arr.shape[2]):\n            np.savetxt(f\"rgb_channel_{i}.txt\", arr[:, :, i], fmt='%d')\n        print(\"RGB image saved.\")\nloaded = np.loadtxt(\"grayscale_image.txt\", dtype=int)\nprint(\"Loaded grayscale image:\\n\", loaded)\n",
      "metadata": {
        "trusted": true
      },
      "outputs": [
        {
          "ename": "<class 'FileNotFoundError'>",
          "evalue": "grayscale_image.txt not found.",
          "traceback": [
            "\u001b[0;31m---------------------------------------------------------------------------\u001b[0m",
            "\u001b[0;31mFileNotFoundError\u001b[0m                         Traceback (most recent call last)",
            "Cell \u001b[0;32mIn[4], line 13\u001b[0m\n\u001b[1;32m     11\u001b[0m             np\u001b[38;5;241m.\u001b[39msavetxt(\u001b[38;5;124mf\u001b[39m\u001b[38;5;124m\"\u001b[39m\u001b[38;5;124mrgb_channel_\u001b[39m\u001b[38;5;132;01m{\u001b[39;00mi\u001b[38;5;132;01m}\u001b[39;00m\u001b[38;5;124m.txt\u001b[39m\u001b[38;5;124m\"\u001b[39m, arr[:, :, i], fmt\u001b[38;5;241m=\u001b[39m\u001b[38;5;124m'\u001b[39m\u001b[38;5;132;01m%d\u001b[39;00m\u001b[38;5;124m'\u001b[39m)\n\u001b[1;32m     12\u001b[0m         \u001b[38;5;28mprint\u001b[39m(\u001b[38;5;124m\"\u001b[39m\u001b[38;5;124mRGB image saved.\u001b[39m\u001b[38;5;124m\"\u001b[39m)\n\u001b[0;32m---> 13\u001b[0m loaded \u001b[38;5;241m=\u001b[39m \u001b[43mnp\u001b[49m\u001b[38;5;241;43m.\u001b[39;49m\u001b[43mloadtxt\u001b[49m\u001b[43m(\u001b[49m\u001b[38;5;124;43m\"\u001b[39;49m\u001b[38;5;124;43mgrayscale_image.txt\u001b[39;49m\u001b[38;5;124;43m\"\u001b[39;49m\u001b[43m,\u001b[49m\u001b[43m \u001b[49m\u001b[43mdtype\u001b[49m\u001b[38;5;241;43m=\u001b[39;49m\u001b[38;5;28;43mint\u001b[39;49m\u001b[43m)\u001b[49m\n\u001b[1;32m     14\u001b[0m \u001b[38;5;28mprint\u001b[39m(\u001b[38;5;124m\"\u001b[39m\u001b[38;5;124mLoaded grayscale image:\u001b[39m\u001b[38;5;130;01m\\n\u001b[39;00m\u001b[38;5;124m\"\u001b[39m, loaded)\n",
            "File \u001b[0;32m/lib/python3.12/site-packages/numpy/lib/_npyio_impl.py:1381\u001b[0m, in \u001b[0;36mloadtxt\u001b[0;34m(fname, dtype, comments, delimiter, converters, skiprows, usecols, unpack, ndmin, encoding, max_rows, quotechar, like)\u001b[0m\n\u001b[1;32m   1378\u001b[0m \u001b[38;5;28;01mif\u001b[39;00m \u001b[38;5;28misinstance\u001b[39m(delimiter, \u001b[38;5;28mbytes\u001b[39m):\n\u001b[1;32m   1379\u001b[0m     delimiter \u001b[38;5;241m=\u001b[39m delimiter\u001b[38;5;241m.\u001b[39mdecode(\u001b[38;5;124m'\u001b[39m\u001b[38;5;124mlatin1\u001b[39m\u001b[38;5;124m'\u001b[39m)\n\u001b[0;32m-> 1381\u001b[0m arr \u001b[38;5;241m=\u001b[39m \u001b[43m_read\u001b[49m\u001b[43m(\u001b[49m\u001b[43mfname\u001b[49m\u001b[43m,\u001b[49m\u001b[43m \u001b[49m\u001b[43mdtype\u001b[49m\u001b[38;5;241;43m=\u001b[39;49m\u001b[43mdtype\u001b[49m\u001b[43m,\u001b[49m\u001b[43m \u001b[49m\u001b[43mcomment\u001b[49m\u001b[38;5;241;43m=\u001b[39;49m\u001b[43mcomment\u001b[49m\u001b[43m,\u001b[49m\u001b[43m \u001b[49m\u001b[43mdelimiter\u001b[49m\u001b[38;5;241;43m=\u001b[39;49m\u001b[43mdelimiter\u001b[49m\u001b[43m,\u001b[49m\n\u001b[1;32m   1382\u001b[0m \u001b[43m            \u001b[49m\u001b[43mconverters\u001b[49m\u001b[38;5;241;43m=\u001b[39;49m\u001b[43mconverters\u001b[49m\u001b[43m,\u001b[49m\u001b[43m \u001b[49m\u001b[43mskiplines\u001b[49m\u001b[38;5;241;43m=\u001b[39;49m\u001b[43mskiprows\u001b[49m\u001b[43m,\u001b[49m\u001b[43m \u001b[49m\u001b[43musecols\u001b[49m\u001b[38;5;241;43m=\u001b[39;49m\u001b[43musecols\u001b[49m\u001b[43m,\u001b[49m\n\u001b[1;32m   1383\u001b[0m \u001b[43m            \u001b[49m\u001b[43munpack\u001b[49m\u001b[38;5;241;43m=\u001b[39;49m\u001b[43munpack\u001b[49m\u001b[43m,\u001b[49m\u001b[43m \u001b[49m\u001b[43mndmin\u001b[49m\u001b[38;5;241;43m=\u001b[39;49m\u001b[43mndmin\u001b[49m\u001b[43m,\u001b[49m\u001b[43m \u001b[49m\u001b[43mencoding\u001b[49m\u001b[38;5;241;43m=\u001b[39;49m\u001b[43mencoding\u001b[49m\u001b[43m,\u001b[49m\n\u001b[1;32m   1384\u001b[0m \u001b[43m            \u001b[49m\u001b[43mmax_rows\u001b[49m\u001b[38;5;241;43m=\u001b[39;49m\u001b[43mmax_rows\u001b[49m\u001b[43m,\u001b[49m\u001b[43m \u001b[49m\u001b[43mquote\u001b[49m\u001b[38;5;241;43m=\u001b[39;49m\u001b[43mquotechar\u001b[49m\u001b[43m)\u001b[49m\n\u001b[1;32m   1386\u001b[0m \u001b[38;5;28;01mreturn\u001b[39;00m arr\n",
            "File \u001b[0;32m/lib/python3.12/site-packages/numpy/lib/_npyio_impl.py:997\u001b[0m, in \u001b[0;36m_read\u001b[0;34m(fname, delimiter, comment, quote, imaginary_unit, usecols, skiplines, max_rows, converters, ndmin, unpack, dtype, encoding)\u001b[0m\n\u001b[1;32m    995\u001b[0m     fname \u001b[38;5;241m=\u001b[39m os\u001b[38;5;241m.\u001b[39mfspath(fname)\n\u001b[1;32m    996\u001b[0m \u001b[38;5;28;01mif\u001b[39;00m \u001b[38;5;28misinstance\u001b[39m(fname, \u001b[38;5;28mstr\u001b[39m):\n\u001b[0;32m--> 997\u001b[0m     fh \u001b[38;5;241m=\u001b[39m \u001b[43mnp\u001b[49m\u001b[38;5;241;43m.\u001b[39;49m\u001b[43mlib\u001b[49m\u001b[38;5;241;43m.\u001b[39;49m\u001b[43m_datasource\u001b[49m\u001b[38;5;241;43m.\u001b[39;49m\u001b[43mopen\u001b[49m\u001b[43m(\u001b[49m\u001b[43mfname\u001b[49m\u001b[43m,\u001b[49m\u001b[43m \u001b[49m\u001b[38;5;124;43m'\u001b[39;49m\u001b[38;5;124;43mrt\u001b[39;49m\u001b[38;5;124;43m'\u001b[39;49m\u001b[43m,\u001b[49m\u001b[43m \u001b[49m\u001b[43mencoding\u001b[49m\u001b[38;5;241;43m=\u001b[39;49m\u001b[43mencoding\u001b[49m\u001b[43m)\u001b[49m\n\u001b[1;32m    998\u001b[0m     \u001b[38;5;28;01mif\u001b[39;00m encoding \u001b[38;5;129;01mis\u001b[39;00m \u001b[38;5;28;01mNone\u001b[39;00m:\n\u001b[1;32m    999\u001b[0m         encoding \u001b[38;5;241m=\u001b[39m \u001b[38;5;28mgetattr\u001b[39m(fh, \u001b[38;5;124m'\u001b[39m\u001b[38;5;124mencoding\u001b[39m\u001b[38;5;124m'\u001b[39m, \u001b[38;5;124m'\u001b[39m\u001b[38;5;124mlatin1\u001b[39m\u001b[38;5;124m'\u001b[39m)\n",
            "File \u001b[0;32m/lib/python3.12/site-packages/numpy/lib/_datasource.py:192\u001b[0m, in \u001b[0;36mopen\u001b[0;34m(path, mode, destpath, encoding, newline)\u001b[0m\n\u001b[1;32m    155\u001b[0m \u001b[38;5;250m\u001b[39m\u001b[38;5;124;03m\"\"\"\u001b[39;00m\n\u001b[1;32m    156\u001b[0m \u001b[38;5;124;03mOpen `path` with `mode` and return the file object.\u001b[39;00m\n\u001b[1;32m    157\u001b[0m \n\u001b[0;32m   (...)\u001b[0m\n\u001b[1;32m    188\u001b[0m \n\u001b[1;32m    189\u001b[0m \u001b[38;5;124;03m\"\"\"\u001b[39;00m\n\u001b[1;32m    191\u001b[0m ds \u001b[38;5;241m=\u001b[39m DataSource(destpath)\n\u001b[0;32m--> 192\u001b[0m \u001b[38;5;28;01mreturn\u001b[39;00m \u001b[43mds\u001b[49m\u001b[38;5;241;43m.\u001b[39;49m\u001b[43mopen\u001b[49m\u001b[43m(\u001b[49m\u001b[43mpath\u001b[49m\u001b[43m,\u001b[49m\u001b[43m \u001b[49m\u001b[43mmode\u001b[49m\u001b[43m,\u001b[49m\u001b[43m \u001b[49m\u001b[43mencoding\u001b[49m\u001b[38;5;241;43m=\u001b[39;49m\u001b[43mencoding\u001b[49m\u001b[43m,\u001b[49m\u001b[43m \u001b[49m\u001b[43mnewline\u001b[49m\u001b[38;5;241;43m=\u001b[39;49m\u001b[43mnewline\u001b[49m\u001b[43m)\u001b[49m\n",
            "File \u001b[0;32m/lib/python3.12/site-packages/numpy/lib/_datasource.py:532\u001b[0m, in \u001b[0;36mDataSource.open\u001b[0;34m(self, path, mode, encoding, newline)\u001b[0m\n\u001b[1;32m    529\u001b[0m     \u001b[38;5;28;01mreturn\u001b[39;00m _file_openers[ext](found, mode\u001b[38;5;241m=\u001b[39mmode,\n\u001b[1;32m    530\u001b[0m                               encoding\u001b[38;5;241m=\u001b[39mencoding, newline\u001b[38;5;241m=\u001b[39mnewline)\n\u001b[1;32m    531\u001b[0m \u001b[38;5;28;01melse\u001b[39;00m:\n\u001b[0;32m--> 532\u001b[0m     \u001b[38;5;28;01mraise\u001b[39;00m \u001b[38;5;167;01mFileNotFoundError\u001b[39;00m(\u001b[38;5;124mf\u001b[39m\u001b[38;5;124m\"\u001b[39m\u001b[38;5;132;01m{\u001b[39;00mpath\u001b[38;5;132;01m}\u001b[39;00m\u001b[38;5;124m not found.\u001b[39m\u001b[38;5;124m\"\u001b[39m)\n",
            "\u001b[0;31mFileNotFoundError\u001b[0m: grayscale_image.txt not found."
          ],
          "output_type": "error"
        }
      ],
      "execution_count": 4
    },
    {
      "id": "fc640129-2041-49f4-94a5-fa2ac32bece5",
      "cell_type": "code",
      "source": "",
      "metadata": {
        "trusted": true
      },
      "outputs": [],
      "execution_count": null
    }
  ]
}