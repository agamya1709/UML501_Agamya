{
  "metadata": {
    "kernelspec": {
      "name": "python",
      "display_name": "Python (Pyodide)",
      "language": "python"
    },
    "language_info": {
      "codemirror_mode": {
        "name": "python",
        "version": 3
      },
      "file_extension": ".py",
      "mimetype": "text/x-python",
      "name": "python",
      "nbconvert_exporter": "python",
      "pygments_lexer": "ipython3",
      "version": "3.8"
    }
  },
  "nbformat_minor": 5,
  "nbformat": 4,
  "cells": [
    {
      "id": "66129cd0-672e-4144-9103-27bf10b24764",
      "cell_type": "code",
      "source": "import pandas as pd\nimport numpy as np\nfrom sklearn.preprocessing import MinMaxScaler, StandardScaler, OneHotEncoder\nfrom sklearn.metrics.pairwise import cosine_similarity\nfrom scipy.spatial.distance import jaccard\nfrom scipy.stats import pearsonr\n\ndf = pd.read_csv(\"AWCustomers.csv\")\ndf.columns = (\n    df.columns.str.strip()\n              .str.replace(\" \", \"_\")\n              .str.replace(\"-\", \"_\")\n)\n\nprint(\"Cleaned Columns:\", df.columns.tolist())\n\n\nfeatures = [c for c in [\n    \"Age\",\"Yearly_Income\",\"Commute_Distance\",\n    \"Education\",\"Occupation\",\"Gender\",\"Marital_Status\",\"Bike_Buyer\"\n] if c in df.columns]\n\ndf = df[features].dropna()\nprint(\"\\nSelected features:\", df.columns.tolist())\n\n\nnum_cols = [c for c in [\"Age\",\"Yearly_Income\"] if c in df.columns]\nif num_cols:\n    df[num_cols] = MinMaxScaler().fit_transform(df[num_cols])\n\n\ncat_cols = [c for c in df.columns if df[c].dtype==\"object\"]\nif cat_cols:\n    df = pd.get_dummies(df, columns=cat_cols, drop_first=True)\n\nprint(\"\\nFinal shape:\", df.shape)\nprint(df.head())\n\n\nobj1, obj2 = df.iloc[0].values.reshape(1,-1), df.iloc[1].values.reshape(1,-1)\n\n\nsmc = np.mean(obj1 == obj2)\n\nbinary_obj1, binary_obj2 = obj1.astype(int).flatten(), obj2.astype(int).flatten()\njaccard_sim = 1 - jaccard(binary_obj1, binary_obj2)\n\n\ncos_sim = cosine_similarity(obj1, obj2)[0][0]\n\nprint(\"\\nSimilarity Between Row 1 and 2:\")\nprint(\"Simple Matching Coefficient:\", smc)\nprint(\"Jaccard Similarity:\", jaccard_sim)\nprint(\"Cosine Similarity:\", cos_sim)\n\n\nif \"Commute_Distance\" in df.columns:\n    commute_map = {\n        \"0-1 Miles\": 1, \"1-2 Miles\": 2, \"2-5 Miles\": 3,\n        \"5-10 Miles\": 4, \"10+ Miles\": 5\n    }\n    df[\"CommuteDistance_num\"] = df[\"Commute_Distance\"].map(commute_map)\n\nif \"Yearly_Income\" in df.columns and \"CommuteDistance_num\" in df.columns:\n    corr, p = pearsonr(df[\"CommuteDistance_num\"], df[\"Yearly_Income\"])\n    print(\"\\nCorrelation Between Commute Distance & Yearly Income:\", corr, \"(p-value:\", p, \")\")\n",
      "metadata": {
        "trusted": true
      },
      "outputs": [
        {
          "name": "stdout",
          "output_type": "stream",
          "text": "Cleaned Columns: ['CustomerID', 'Title', 'FirstName', 'MiddleName', 'LastName', 'Suffix', 'AddressLine1', 'AddressLine2', 'City', 'StateProvinceName', 'CountryRegionName', 'PostalCode', 'PhoneNumber', 'BirthDate', 'Education', 'Occupation', 'Gender', 'MaritalStatus', 'HomeOwnerFlag', 'NumberCarsOwned', 'NumberChildrenAtHome', 'TotalChildren', 'YearlyIncome', 'LastUpdated']\n\nSelected features: ['Education', 'Occupation', 'Gender']\n\nFinal shape: (18361, 9)\n   Education_Graduate Degree  Education_High School  \\\n0                      False                  False   \n1                      False                  False   \n2                      False                  False   \n3                      False                  False   \n4                      False                  False   \n\n   Education_Partial College  Education_Partial High School  \\\n0                      False                          False   \n1                       True                          False   \n2                      False                          False   \n3                       True                          False   \n4                       True                          False   \n\n   Occupation_Management  Occupation_Manual  Occupation_Professional  \\\n0                  False              False                    False   \n1                  False              False                    False   \n2                  False              False                    False   \n3                  False              False                    False   \n4                  False              False                    False   \n\n   Occupation_Skilled Manual  Gender_M  \n0                      False      True  \n1                      False      True  \n2                      False     False  \n3                       True      True  \n4                       True      True  \n\nSimilarity Between Row 1 and 2:\nSimple Matching Coefficient: 0.8888888888888888\nJaccard Similarity: 0.5\nCosine Similarity: 0.7071067811865475\n"
        }
      ],
      "execution_count": 16
    },
    {
      "id": "0535dac8-e83c-4c53-b292-5540a84b9e3e",
      "cell_type": "code",
      "source": "",
      "metadata": {
        "trusted": true
      },
      "outputs": [],
      "execution_count": null
    },
    {
      "id": "d41b97c2-5e87-410a-9cf9-71ad35357174",
      "cell_type": "code",
      "source": "",
      "metadata": {
        "trusted": true
      },
      "outputs": [],
      "execution_count": null
    }
  ]
}