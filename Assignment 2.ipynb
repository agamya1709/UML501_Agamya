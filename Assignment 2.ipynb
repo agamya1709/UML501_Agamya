{
  "metadata": {
    "kernelspec": {
      "name": "python",
      "display_name": "Python (Pyodide)",
      "language": "python"
    },
    "language_info": {
      "codemirror_mode": {
        "name": "python",
        "version": 3
      },
      "file_extension": ".py",
      "mimetype": "text/x-python",
      "name": "python",
      "nbconvert_exporter": "python",
      "pygments_lexer": "ipython3",
      "version": "3.8"
    }
  },
  "nbformat_minor": 5,
  "nbformat": 4,
  "cells": [
    {
      "id": "66129cd0-672e-4144-9103-27bf10b24764",
      "cell_type": "code",
      "source": "# Assignment 2 - Adventure Works Cycles Customer Data Analysis\n\n# ================================\n# Part 0: Setup\n# ================================\nimport pandas as pd\nimport numpy as np\nfrom sklearn.preprocessing import MinMaxScaler, StandardScaler, OneHotEncoder, KBinsDiscretizer\nfrom sklearn.metrics.pairwise import cosine_similarity\nfrom scipy.spatial.distance import jaccard\nfrom scipy.stats import pearsonr\nimport warnings\nwarnings.filterwarnings(\"ignore\")\n\n# ================================\n# Part I: Load & Inspect Data\n# ================================\ndf = pd.read_csv(\"AWCustomers.csv\")  \n\nprint(\"Original Shape:\", df.shape)\nprint(\"Original Columns:\\n\", df.columns.tolist())\n\n# ---- Clean column names ----\ndf.columns = (\n    df.columns.str.strip()\n              .str.replace(\" \", \"_\")\n              .str.replace(\"-\", \"_\")\n              .str.replace(r\"[()]\", \"\", regex=True)\n)\n\nprint(\"\\nCleaned Columns:\\n\", df.columns.tolist())\n\n# ================================\n# Part I: Feature Selection (Auto-detect)\n# ================================\ncandidate_features = [\n    \"Age\", \n    \"Yearly_Income\", \"YearlyIncome\", \n    \"Commute_Distance\", \"CommuteDistance\", \n    \"Education\", \n    \"Occupation\", \n    \"Gender\", \n    \"Marital_Status\", \"MaritalStatus\", \n    \"Bike_Buyer\", \"BikeBuyer\"\n]\n\nselected_features = [c for c in candidate_features if c in df.columns]\nprint(\"\\nSelected Features (auto-detected):\", selected_features)\n\ndf_selected = df[selected_features]\nprint(\"Selected DataFrame Shape:\", df_selected.shape)\ndf_selected.head()\n\n# ================================\n# Part II: Preprocessing\n# ================================\ndf_clean = df_selected.dropna()\n\n# Normalize numeric columns if present\nnum_cols = [c for c in [\"Age\", \"Yearly_Income\", \"YearlyIncome\"] if c in df_clean.columns]\nif num_cols:\n    scaler = MinMaxScaler()\n    df_clean[num_cols] = scaler.fit_transform(df_clean[num_cols])\n\n# Discretize Age if present\nif \"Age\" in df_clean.columns:\n    binning = KBinsDiscretizer(n_bins=3, encode='ordinal', strategy='uniform')\n    df_clean[\"Age_binned\"] = binning.fit_transform(df_clean[[\"Age\"]])\n\n# Standardize Yearly Income\nif \"Yearly_Income\" in df_clean.columns:\n    std_scaler = StandardScaler()\n    df_clean[\"YearlyIncome_std\"] = std_scaler.fit_transform(df_clean[[\"Yearly_Income\"]])\nelif \"YearlyIncome\" in df_clean.columns:\n    std_scaler = StandardScaler()\n    df_clean[\"YearlyIncome_std\"] = std_scaler.fit_transform(df_clean[[\"YearlyIncome\"]])\n\n# One Hot Encoding categorical attributes\ncategorical_cols = [c for c in [\"Commute_Distance\", \"CommuteDistance\", \n                                \"Education\", \"Occupation\", \n                                \"Gender\", \"Marital_Status\", \"MaritalStatus\"] if c in df_clean.columns]\n\nif categorical_cols:\n    # Fix for sklearn version: use sparse_output instead of sparse\n    encoder = OneHotEncoder(sparse_output=False, drop='first')\n    encoded_data = encoder.fit_transform(df_clean[categorical_cols])\n    encoded_df = pd.DataFrame(encoded_data, columns=encoder.get_feature_names_out(categorical_cols))\n    df_final = pd.concat([df_clean.reset_index(drop=True), encoded_df], axis=1)\nelse:\n    df_final = df_clean.copy()\n\nprint(\"\\nFinal Preprocessed Data Shape:\", df_final.shape)\ndf_final.head()\n\n# ================================\n# Part III: Similarity & Correlation\n# ================================\nif df_final.shape[0] >= 2:\n    obj1 = df_final.iloc[0].values.reshape(1, -1)\n    obj2 = df_final.iloc[1].values.reshape(1, -1)\n\n    smc = np.sum(obj1 == obj2) / len(obj1[0])   # Simple Matching\n    binary_obj1 = (obj1 > 0).astype(int).flatten()\n    binary_obj2 = (obj2 > 0).astype(int).flatten()\n    jaccard_sim = 1 - jaccard(binary_obj1, binary_obj2)  # Jaccard\n    cos_sim = cosine_similarity(obj1, obj2)[0][0]        # Cosine\n\n    print(\"\\nSimilarity Measures Between Object 1 and 2:\")\n    print(\"Simple Matching Coefficient:\", smc)\n    print(\"Jaccard Similarity:\", jaccard_sim)\n    print(\"Cosine Similarity:\", cos_sim)\n\n# Correlation: Commute Distance vs Yearly Income\ncommute_map = {\n    \"0-1 Miles\": 1, \"1-2 Miles\": 2, \"2-5 Miles\": 3, \n    \"5-10 Miles\": 4, \"10+ Miles\": 5\n}\n\ndf_corr = df_clean.copy()\nif \"Commute_Distance\" in df_corr.columns:\n    df_corr[\"CommuteDistance_num\"] = df_corr[\"Commute_Distance\"].map(commute_map)\nelif \"CommuteDistance\" in df_corr.columns:\n    df_corr[\"CommuteDistance_num\"] = df_corr[\"CommuteDistance\"].map(commute_map)\n\nif \"YearlyIncome_std\" in df_corr.columns and \"CommuteDistance_num\" in df_corr.columns:\n    corr, p_value = pearsonr(df_corr[\"CommuteDistance_num\"], df_corr[\"YearlyIncome_std\"])\n    print(\"\\nCorrelation Analysis:\")\n    print(\"Correlation between Commute Distance & Yearly Income:\", corr)\n    print(\"p-value:\", p_value)\n",
      "metadata": {
        "trusted": true
      },
      "outputs": [
        {
          "name": "stdout",
          "output_type": "stream",
          "text": "Original Shape: (18361, 24)\nOriginal Columns:\n ['CustomerID', 'Title', 'FirstName', 'MiddleName', 'LastName', 'Suffix', 'AddressLine1', 'AddressLine2', 'City', 'StateProvinceName', 'CountryRegionName', 'PostalCode', 'PhoneNumber', 'BirthDate', 'Education', 'Occupation', 'Gender', 'MaritalStatus', 'HomeOwnerFlag', 'NumberCarsOwned', 'NumberChildrenAtHome', 'TotalChildren', 'YearlyIncome', 'LastUpdated']\n\nCleaned Columns:\n ['CustomerID', 'Title', 'FirstName', 'MiddleName', 'LastName', 'Suffix', 'AddressLine1', 'AddressLine2', 'City', 'StateProvinceName', 'CountryRegionName', 'PostalCode', 'PhoneNumber', 'BirthDate', 'Education', 'Occupation', 'Gender', 'MaritalStatus', 'HomeOwnerFlag', 'NumberCarsOwned', 'NumberChildrenAtHome', 'TotalChildren', 'YearlyIncome', 'LastUpdated']\n\nSelected Features (auto-detected): ['YearlyIncome', 'Education', 'Occupation', 'Gender', 'MaritalStatus']\nSelected DataFrame Shape: (18361, 5)\n\nFinal Preprocessed Data Shape: (18361, 16)\n"
        },
        {
          "ename": "<class 'TypeError'>",
          "evalue": "'>' not supported between instances of 'str' and 'int'",
          "traceback": [
            "\u001b[0;31m---------------------------------------------------------------------------\u001b[0m",
            "\u001b[0;31mTypeError\u001b[0m                                 Traceback (most recent call last)",
            "Cell \u001b[0;32mIn[13], line 103\u001b[0m\n\u001b[1;32m    100\u001b[0m obj2 \u001b[38;5;241m=\u001b[39m df_final\u001b[38;5;241m.\u001b[39miloc[\u001b[38;5;241m1\u001b[39m]\u001b[38;5;241m.\u001b[39mvalues\u001b[38;5;241m.\u001b[39mreshape(\u001b[38;5;241m1\u001b[39m, \u001b[38;5;241m-\u001b[39m\u001b[38;5;241m1\u001b[39m)\n\u001b[1;32m    102\u001b[0m smc \u001b[38;5;241m=\u001b[39m np\u001b[38;5;241m.\u001b[39msum(obj1 \u001b[38;5;241m==\u001b[39m obj2) \u001b[38;5;241m/\u001b[39m \u001b[38;5;28mlen\u001b[39m(obj1[\u001b[38;5;241m0\u001b[39m])   \u001b[38;5;66;03m# Simple Matching\u001b[39;00m\n\u001b[0;32m--> 103\u001b[0m binary_obj1 \u001b[38;5;241m=\u001b[39m (\u001b[43mobj1\u001b[49m\u001b[43m \u001b[49m\u001b[38;5;241;43m>\u001b[39;49m\u001b[43m \u001b[49m\u001b[38;5;241;43m0\u001b[39;49m)\u001b[38;5;241m.\u001b[39mastype(\u001b[38;5;28mint\u001b[39m)\u001b[38;5;241m.\u001b[39mflatten()\n\u001b[1;32m    104\u001b[0m binary_obj2 \u001b[38;5;241m=\u001b[39m (obj2 \u001b[38;5;241m>\u001b[39m \u001b[38;5;241m0\u001b[39m)\u001b[38;5;241m.\u001b[39mastype(\u001b[38;5;28mint\u001b[39m)\u001b[38;5;241m.\u001b[39mflatten()\n\u001b[1;32m    105\u001b[0m jaccard_sim \u001b[38;5;241m=\u001b[39m \u001b[38;5;241m1\u001b[39m \u001b[38;5;241m-\u001b[39m jaccard(binary_obj1, binary_obj2)  \u001b[38;5;66;03m# Jaccard\u001b[39;00m\n",
            "\u001b[0;31mTypeError\u001b[0m: '>' not supported between instances of 'str' and 'int'"
          ],
          "output_type": "error"
        }
      ],
      "execution_count": 13
    },
    {
      "id": "0535dac8-e83c-4c53-b292-5540a84b9e3e",
      "cell_type": "code",
      "source": "",
      "metadata": {
        "trusted": true
      },
      "outputs": [],
      "execution_count": null
    },
    {
      "id": "d41b97c2-5e87-410a-9cf9-71ad35357174",
      "cell_type": "code",
      "source": "",
      "metadata": {
        "trusted": true
      },
      "outputs": [],
      "execution_count": null
    }
  ]
}